{
 "cells": [
  {
   "cell_type": "code",
   "execution_count": null,
   "id": "b8504547",
   "metadata": {},
   "outputs": [],
   "source": [
    "import os\n",
    "\n",
    "import pandas as pd"
   ]
  },
  {
   "cell_type": "code",
   "execution_count": null,
   "id": "279fc6ff",
   "metadata": {},
   "outputs": [],
   "source": [
    "fileslist = []\n",
    "\n",
    "\n",
    "for root, dirs, files in os.walk(rootFolder):\n",
    "    for file in files:\n",
    "        if file.endswith(\".avi\"):\n",
    "            fileslist.append(os.path.join(root, file))\n",
    "df = pd.DataFrame(fileslist)\n",
    "df[\"output_name\"] = df[0].str.replace(rootFolder, outputFolder, regex=True)\n",
    "df[\"output_name\"] = df[\"output_name\"].str.replace(\".avi\", \"\", regex=True)"
   ]
  },
  {
   "cell_type": "code",
   "execution_count": null,
   "id": "e2b5e604",
   "metadata": {},
   "outputs": [],
   "source": [
    "def convert_avi_to_mp4(avi_file_path, output_name):\n",
    "    os.popen(\n",
    "        \"ffmpeg -i '{input}' -ac 2 -b:v 2000k -c:a aac -c:v libx264 -b:a 160k -vprofile high -bf 0 -strict experimental -f mp4 '{output}.mp4'\".format(\n",
    "            input=avi_file_path, output=output_name\n",
    "        )\n",
    "    )\n",
    "    return True"
   ]
  },
  {
   "cell_type": "code",
   "execution_count": null,
   "id": "17ef6931",
   "metadata": {},
   "outputs": [],
   "source": [
    "for index, row in df.iterrows():\n",
    "    convert_avi_to_mp4(row[0], row[\"output_name\"])"
   ]
  },
  {
   "cell_type": "code",
   "execution_count": null,
   "id": "9052cb6f",
   "metadata": {},
   "outputs": [],
   "source": [
    "display(df)"
   ]
  },
  {
   "cell_type": "code",
   "execution_count": null,
   "id": "5eb64c79",
   "metadata": {},
   "outputs": [],
   "source": []
  }
 ],
 "metadata": {
  "kernelspec": {
   "display_name": "Python 3",
   "language": "python",
   "name": "python3"
  },
  "language_info": {
   "codemirror_mode": {
    "name": "ipython",
    "version": 3
   },
   "file_extension": ".py",
   "mimetype": "text/x-python",
   "name": "python",
   "nbconvert_exporter": "python",
   "pygments_lexer": "ipython3",
   "version": "3.8.5"
  }
 },
 "nbformat": 4,
 "nbformat_minor": 5
}
