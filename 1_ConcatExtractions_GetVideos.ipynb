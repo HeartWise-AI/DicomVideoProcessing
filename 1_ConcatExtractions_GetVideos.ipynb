{
 "cells": [
  {
   "cell_type": "code",
   "execution_count": null,
   "metadata": {},
   "outputs": [],
   "source": [
    "import numpy as np\n",
    "import pandas as pd\n",
    "\n",
    "# pd.set_option('display.height', 1000)\n",
    "pd.set_option(\"display.max_rows\", 500)\n",
    "pd.set_option(\"display.max_columns\", 500)\n",
    "pd.set_option(\"display.width\", 1000)\n",
    "pd.set_option(\"max_colwidth\", 200)\n",
    "from IPython.core.display import HTML, display\n",
    "\n",
    "display(HTML(\"<style>.container { width:100% !important; }</style>\"))\n",
    "\n",
    "\n",
    "def df_stats(df):\n",
    "    from tabulate import tabulate\n",
    "\n",
    "    print(\"\\n***** Shape: \", df.shape, \" *****\\n\")\n",
    "\n",
    "    columns_list = df.columns.values.tolist()\n",
    "    isnull_list = df.isnull().sum().values.tolist()\n",
    "    isunique_list = df.nunique().values.tolist()\n",
    "    dtypes_list = df.dtypes.tolist()\n",
    "\n",
    "    list_stat_val = list(zip(columns_list, isnull_list, isunique_list, dtypes_list))\n",
    "    df_stat_val = pd.DataFrame(\n",
    "        list_stat_val, columns=[\"Name\", \"Null\", \"Unique\", \"Dtypes\"]\n",
    "    )\n",
    "    print(tabulate(df_stat_val, headers=\"keys\", tablefmt=\"psql\"))\n",
    "    return df.head()"
   ]
  },
  {
   "cell_type": "code",
   "execution_count": null,
   "metadata": {},
   "outputs": [],
   "source": [
    "import os\n",
    "\n",
    "\n",
    "def list_files(dir):\n",
    "    r = []\n",
    "    subdirs = [x[0] for x in os.walk(dir)]\n",
    "    for subdir in subdirs:\n",
    "        files = os.walk(subdir).__next__()[2]\n",
    "\n",
    "        if len(files) > 0:\n",
    "            for file in files:\n",
    "                r.append(os.path.join(subdir, file))\n",
    "    return r"
   ]
  },
  {
   "cell_type": "code",
   "execution_count": null,
   "metadata": {},
   "outputs": [],
   "source": [
    "r = list_files(\"/media/data1/ravram/DeepOCT_Abbott\")\n",
    "display(len(r), \" files found\")\n",
    "df = pd.DataFrame(list(zip(r)), columns=[\"path\"])\n",
    "new_2 = df[\"path\"].str.split(\"/\", n=8, expand=True)\n",
    "\n",
    "df[\"StudyInstanceUID\"] = new_2[6]\n",
    "df[\"patient_id\"] = new_2[5]\n",
    "df[\"dicom_id\"] = new_2[7]\n",
    "display(df.head(n=15))"
   ]
  },
  {
   "cell_type": "code",
   "execution_count": null,
   "metadata": {},
   "outputs": [],
   "source": [
    "df_extracted = pd.read_csv(\"data/Abbott_OCT/database-c-find_ABBOTT.csv\")\n",
    "df_extracted = pd.DataFrame({\"path\": r})\n",
    "df_extracted[\"FileType\"] = df_extracted.path.apply(lambda x: x.split(\".\")[-1])\n",
    "display(\"Total files\", df_extracted.FileType.value_counts())\n",
    "\n",
    "df_extracted = df_extracted.loc[df_extracted[\"FileType\"] == \"dcm\"]\n",
    "new_2 = df_extracted[\"path\"].str.split(\"/\", n=7, expand=True)\n",
    "\n",
    "df_extracted[\"mrn\"] = new_2[5]\n",
    "df_extracted[\"StudyInstanceUID\"] = new_2[6]\n",
    "df_extracted[\"dicom_id\"] = new_2[7].str.rstrip(\".dcm\")\n",
    "df_extracted_study_level = (\n",
    "    df_extracted.groupby([\"mrn\", \"StudyInstanceUID\"]).first().reset_index()\n",
    ")"
   ]
  },
  {
   "cell_type": "code",
   "execution_count": null,
   "metadata": {},
   "outputs": [],
   "source": [
    "df_extracted_m = pd.merge(\n",
    "    df_extracted_study_level.drop(columns={\"dicom_id\", \"path\"}),\n",
    "    df,\n",
    "    how=\"inner\",\n",
    "    on=[\"StudyInstanceUID\"],\n",
    ")\n",
    "display(\n",
    "    df_extracted_m.loc[\n",
    "        df_extracted_m[\"dicom_id\"]\n",
    "        == \"1.3.12.2.1107.5.4.5.135214.30000022072511311760100000156.dcm\"\n",
    "    ]\n",
    ")\n",
    "df_extracted_m.to_csv(\"data/Abbott_OCT/df_extracted_m_ABBOTT.csv\", index=False)"
   ]
  },
  {
   "cell_type": "code",
   "execution_count": null,
   "metadata": {},
   "outputs": [],
   "source": [
    "df_extracted_m = pd.read_csv(\"data/Abbott_OCT/df_extracted_m_ABBOTT.csv\")\n",
    "display(\n",
    "    df_extracted_m.loc[\n",
    "        df_extracted_m[\"StudyInstanceUID\"] == \"2.16.124.113611.1.118.1.1.5884039\"\n",
    "    ]\n",
    ")"
   ]
  },
  {
   "cell_type": "markdown",
   "metadata": {},
   "source": [
    "### Extract AVI Metadata\n",
    "\n",
    "\n"
   ]
  },
  {
   "cell_type": "code",
   "execution_count": null,
   "metadata": {},
   "outputs": [],
   "source": [
    "from downloadAvi import extract_avi_metadata as avi_meta\n",
    "\n",
    "avi_meta.extract_avi_and_metadata(\"data/Abbott_OCT/df_extracted_m_ABBOTT.csv\")"
   ]
  }
 ],
 "metadata": {
  "kernelspec": {
   "display_name": "Python 3.8.5 ('base')",
   "language": "python",
   "name": "python3"
  },
  "language_info": {
   "codemirror_mode": {
    "name": "ipython",
    "version": 3
   },
   "file_extension": ".py",
   "mimetype": "text/x-python",
   "name": "python",
   "nbconvert_exporter": "python",
   "pygments_lexer": "ipython3",
   "version": "3.8.5"
  },
  "vscode": {
   "interpreter": {
    "hash": "2f394aca7ca06fed1e6064aef884364492d7cdda3614a461e02e6407fc40ba69"
   }
  }
 },
 "nbformat": 4,
 "nbformat_minor": 2
}
