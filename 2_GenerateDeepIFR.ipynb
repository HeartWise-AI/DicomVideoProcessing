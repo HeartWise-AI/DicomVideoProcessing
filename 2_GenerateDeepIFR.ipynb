{
 "cells": [
  {
   "cell_type": "code",
   "execution_count": null,
   "metadata": {},
   "outputs": [],
   "source": [
    "import numpy as np\n",
    "import pandas as pd\n",
    "\n",
    "# pd.set_option('display.height', 1000)\n",
    "pd.set_option(\"display.max_rows\", 500)\n",
    "pd.set_option(\"display.max_columns\", 500)\n",
    "pd.set_option(\"display.width\", 1000)\n",
    "pd.set_option(\"max_colwidth\", 200)\n",
    "from IPython.core.display import HTML, display\n",
    "\n",
    "display(HTML(\"<style>.container { width:100% !important; }</style>\"))\n",
    "\n",
    "\n",
    "import os\n",
    "\n",
    "os.environ[\"R_HOME\"] = \"/root/miniconda3/envs/R/lib/R\"\n",
    "\n",
    "import rpy2.robjects as objects\n",
    "from rpy2.robjects.packages import importr\n",
    "\n",
    "base = importr(\"base\")\n",
    "r_pROC = importr(\"pROC\")\n",
    "base._libPaths()[0]\n",
    "\n",
    "\n",
    "def df_stats(df):\n",
    "    from tabulate import tabulate\n",
    "\n",
    "    print(\"\\n***** Shape: \", df.shape, \" *****\\n\")\n",
    "\n",
    "    columns_list = df.columns.values.tolist()\n",
    "    isnull_list = df.isnull().sum().values.tolist()\n",
    "    isunique_list = df.nunique().values.tolist()\n",
    "    dtypes_list = df.dtypes.tolist()\n",
    "\n",
    "    list_stat_val = list(zip(columns_list, isnull_list, isunique_list, dtypes_list))\n",
    "    df_stat_val = pd.DataFrame(\n",
    "        list_stat_val, columns=[\"Name\", \"Null\", \"Unique\", \"Dtypes\"]\n",
    "    )\n",
    "    print(tabulate(df_stat_val, headers=\"keys\", tablefmt=\"psql\"))\n",
    "    return df.head()"
   ]
  },
  {
   "cell_type": "code",
   "execution_count": null,
   "metadata": {},
   "outputs": [],
   "source": [
    "df_ifr = pd.read_csv(\n",
    "    \"../CathAI/data/DeepCORO/CathReport_MHI_Merged/2017-2021_CathReport_first_value_in_interval_IFR.csv\"\n",
    ")"
   ]
  },
  {
   "cell_type": "code",
   "execution_count": null,
   "metadata": {},
   "outputs": [],
   "source": [
    "## Define column where IFR was performed\n",
    "import pandas as pd\n",
    "\n",
    "\n",
    "def create_new_col(df):\n",
    "    # List of column names to be checked\n",
    "    col_names = [\n",
    "        \"D2\",\n",
    "        \"D3\",\n",
    "        \"RVG1\",\n",
    "        \"RVG2\",\n",
    "        \"S1\",\n",
    "        \"Saphène ou mammaire\",\n",
    "        \"bx\",\n",
    "        \"diagonal\",\n",
    "        \"dist_lad\",\n",
    "        \"dist_lcx\",\n",
    "        \"dist_rca\",\n",
    "        \"lad\",\n",
    "        \"lcx\",\n",
    "        \"leftmain\",\n",
    "        \"lvp\",\n",
    "        \"marg_d\",\n",
    "        \"mid_lad\",\n",
    "        \"mid_rca\",\n",
    "        \"om1\",\n",
    "        \"om2\",\n",
    "        \"om3\",\n",
    "        \"pda\",\n",
    "        \"posterolateral\",\n",
    "        \"prox_rca\",\n",
    "    ]\n",
    "\n",
    "    # Iterating over rows using DataFrame.apply() and lambda function\n",
    "    df[\"ifr_performed\"] = df.apply(\n",
    "        lambda row: \", \".join([col for col in col_names if row[col] != -1.0]), axis=1\n",
    "    )\n",
    "    return df"
   ]
  },
  {
   "cell_type": "code",
   "execution_count": null,
   "metadata": {},
   "outputs": [],
   "source": [
    "df = create_new_col(df_ifr)\n",
    "df[\"contains_lad\"] = df[\"ifr_performed\"].str.contains(\"lad\")\n",
    "df[\"contains_lcx\"] = df[\"ifr_performed\"].str.contains(\"lcx\")\n",
    "df[\"contains_rca\"] = df[\"ifr_performed\"].str.contains(\"rca|pda|posterolateral\")"
   ]
  },
  {
   "cell_type": "code",
   "execution_count": null,
   "metadata": {},
   "outputs": [],
   "source": [
    "display(df_ifr.head(n=1))"
   ]
  },
  {
   "cell_type": "code",
   "execution_count": null,
   "metadata": {},
   "outputs": [],
   "source": [
    "### Merge with DICOMS Extracted\n",
    "\n",
    "df_dicoms = pd.read_csv(\n",
    "    \"../CathAI/data/DeepCORO/EXAMS_Extracted/2017-2021_dicom_extracted_mod.csv\"\n",
    ")"
   ]
  },
  {
   "cell_type": "code",
   "execution_count": null,
   "metadata": {},
   "outputs": [],
   "source": [
    "# Identify common columns in df and df_dicoms, excluding 'path'\n",
    "common_cols = [col for col in df.columns if col in df_dicoms.columns and col != \"path\"]\n",
    "\n",
    "# Drop common columns from df_dicoms\n",
    "df_dicoms_dropped = df_dicoms.drop(columns=common_cols)\n",
    "\n",
    "# Perform left merge\n",
    "df_merged = pd.merge(\n",
    "    df, df_dicoms_dropped, left_on=\"DICOMPath\", right_on=\"path\", how=\"left\"\n",
    ")"
   ]
  },
  {
   "cell_type": "code",
   "execution_count": null,
   "metadata": {},
   "outputs": [],
   "source": [
    "### Merge with views\n",
    "df_angle_object = pd.read_csv(\n",
    "    \"../CathAI/data/DeepCORO/CATHAI_Extracted_Concatenated/DeepCORO_df_angle_object_dicom_2017-2021.csv\"\n",
    ")\n",
    "### Drop Unnamed columns\n",
    "df_angle_object = df_angle_object.loc[\n",
    "    :, ~df_angle_object.columns.str.contains(\"^Unnamed\")\n",
    "]"
   ]
  },
  {
   "cell_type": "code",
   "execution_count": null,
   "metadata": {},
   "outputs": [],
   "source": [
    "# Perform left merge\n",
    "df_merged_angle_object = pd.merge(df_merged, df_angle_object, on=\"path\", how=\"left\")"
   ]
  },
  {
   "cell_type": "code",
   "execution_count": null,
   "metadata": {},
   "outputs": [],
   "source": [
    "display(df_merged_angle_object.object_value.value_counts())"
   ]
  },
  {
   "cell_type": "code",
   "execution_count": null,
   "metadata": {},
   "outputs": [],
   "source": [
    "display(df_merged_angle_object.contains_lad.value_counts())\n",
    "display(df_merged_angle_object.contains_lcx.value_counts())\n",
    "display(df_merged_angle_object.contains_rca.value_counts())"
   ]
  },
  {
   "cell_type": "code",
   "execution_count": null,
   "metadata": {},
   "outputs": [],
   "source": [
    "df_filtered = df_merged_angle_object[\n",
    "    (df_merged_angle_object[\"contains_lad\"] == True)\n",
    "    | (df_merged_angle_object[\"contains_lcx\"] == True)\n",
    "    | (df_merged_angle_object[\"contains_rca\"] == True)\n",
    "]"
   ]
  },
  {
   "cell_type": "code",
   "execution_count": null,
   "metadata": {},
   "outputs": [],
   "source": [
    "#1425 examens avec IFR dans IVA, LCX ou RCA\n",
    "display(df_f.grou"
   ]
  },
  {
   "cell_type": "code",
   "execution_count": null,
   "metadata": {},
   "outputs": [],
   "source": [
    "df_f.to_csv(\"data/df_f.csv\", index=False)\n",
    "df_merged_angle_object.to_csv(\"data/df_merged_angle_object_IFR.csv\", index=False)"
   ]
  },
  {
   "cell_type": "markdown",
   "metadata": {},
   "source": [
    "Sure, here's a markdown table based on the labels' definitions:\n",
    "\n",
    "| Label | Name         | 'primary' range | 'secondary' range |\n",
    "|-------|--------------|-----------------|-------------------|\n",
    "| 0     | RAO Cranial  | -60 to -15      | 15 to 50          |\n",
    "| 1     | AP Cranial   | -15 to 15       | 15 to 50          |\n",
    "| 2     | LAO Cranial  | 15 to 60        | 15 to 50          |\n",
    "| 3     | RAO Straight | -60 to -15      | -15 to 15         |\n",
    "| 4     | AP           | -15 to 15       | -15 to 15         |\n",
    "| 5     | LAO Straight | 15 to 60        | -15 to 15         |\n",
    "| 6     | RAO Caudal   | -60 to -15      | -50 to -15        |\n",
    "| 7     | AP Caudal    | -15 to 15       | -50 to -15        |\n",
    "| 8     | LAO Caudal   | 15 to 60        | -50 to -15        |\n",
    "| 9     | LAO Lateral  | -110 to -70     | -15 to 15         |\n",
    "| 10    | RAO Lateral  | 70 to 110       | -15 to 15         |\n",
    "| 11    | Other        | Not applicable  | Not applicable    |\n",
    "\n",
    "Note: The ranges in the 'primary' and 'secondary' columns are inclusive."
   ]
  },
  {
   "cell_type": "markdown",
   "metadata": {},
   "source": [
    "## Generate videos"
   ]
  },
  {
   "cell_type": "code",
   "execution_count": null,
   "metadata": {},
   "outputs": [],
   "source": [
    "import numpy as np\n",
    "import pandas as pd\n",
    "\n",
    "# pd.set_option('display.height', 1000)\n",
    "pd.set_option(\"display.max_rows\", 500)\n",
    "pd.set_option(\"display.max_columns\", 500)\n",
    "pd.set_option(\"display.width\", 1000)\n",
    "pd.set_option(\"max_colwidth\", 200)\n",
    "from IPython.core.display import HTML, display\n",
    "\n",
    "display(HTML(\"<style>.container { width:100% !important; }</style>\"))\n",
    "\n",
    "from downloadAvi import extract_avi_metadata as avi_meta"
   ]
  },
  {
   "cell_type": "code",
   "execution_count": null,
   "metadata": {},
   "outputs": [],
   "source": [
    "df_f = pd.read_csv(\"data/df_f.csv\")\n",
    "# df_merged_angle_object = pd.read_csv('data/df_merged_angle_object_IFR.csv')"
   ]
  },
  {
   "cell_type": "code",
   "execution_count": null,
   "metadata": {},
   "outputs": [],
   "source": [
    "avi_meta.extract_avi_and_metadata(\n",
    "    \"data/df_f.csv\", data_type=\"ANGIO\", destinationFolder=\"deepIFR/\", dataFolder=\"data/\"\n",
    ")"
   ]
  },
  {
   "cell_type": "code",
   "execution_count": null,
   "metadata": {},
   "outputs": [],
   "source": [
    "import pydicom as dicom\n",
    "from pydicom.uid import UID, generate_uid\n",
    "\n",
    "dataset = dicom.dcmread(df_f.path.iloc[1], force=True)"
   ]
  },
  {
   "cell_type": "code",
   "execution_count": null,
   "metadata": {},
   "outputs": [],
   "source": [
    "display(dataset)"
   ]
  },
  {
   "cell_type": "code",
   "execution_count": null,
   "metadata": {},
   "outputs": [],
   "source": []
  }
 ],
 "metadata": {
  "kernelspec": {
   "display_name": "base",
   "language": "python",
   "name": "python3"
  },
  "language_info": {
   "codemirror_mode": {
    "name": "ipython",
    "version": 3
   },
   "file_extension": ".py",
   "mimetype": "text/x-python",
   "name": "python",
   "nbconvert_exporter": "python",
   "pygments_lexer": "ipython3",
   "version": "3.8.15"
  }
 },
 "nbformat": 4,
 "nbformat_minor": 2
}
